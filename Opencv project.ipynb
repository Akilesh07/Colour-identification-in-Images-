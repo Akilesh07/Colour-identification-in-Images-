{
 "cells": [
  {
   "cell_type": "code",
   "execution_count": 1,
   "metadata": {},
   "outputs": [
    {
     "name": "stdout",
     "output_type": "stream",
     "text": [
      "Requirement already satisfied: pandas in c:\\users\\home\\anaconda3\\lib\\site-packages (1.1.3)\n",
      "Requirement already satisfied: opencv-python in c:\\users\\home\\anaconda3\\lib\\site-packages (4.5.2.52)\n",
      "Requirement already satisfied: numpy>=1.15.4 in c:\\users\\home\\anaconda3\\lib\\site-packages (from pandas) (1.19.2)\n",
      "Requirement already satisfied: python-dateutil>=2.7.3 in c:\\users\\home\\anaconda3\\lib\\site-packages (from pandas) (2.8.1)\n",
      "Requirement already satisfied: pytz>=2017.2 in c:\\users\\home\\anaconda3\\lib\\site-packages (from pandas) (2020.1)\n",
      "Requirement already satisfied: six>=1.5 in c:\\users\\home\\anaconda3\\lib\\site-packages (from python-dateutil>=2.7.3->pandas) (1.15.0)\n",
      "Note: you may need to restart the kernel to use updated packages.\n"
     ]
    }
   ],
   "source": [
    "pip install pandas opencv-python"
   ]
  },
  {
   "cell_type": "code",
   "execution_count": 1,
   "metadata": {},
   "outputs": [
    {
     "name": "stdout",
     "output_type": "stream",
     "text": [
      "440 462\n",
      "63 146\n",
      "105 167\n",
      "203 187\n",
      "537 212\n",
      "745 197\n",
      "712 198\n",
      "396 508\n",
      "512 484\n",
      "57 473\n"
     ]
    }
   ],
   "source": [
    "import pandas as pd\n",
    "import cv2\n",
    "img_path = 'pic2.jpg'\n",
    "csv_path = 'colors.csv'\n",
    "\n",
    "index=['color','colorname','hex','R','G','B']\n",
    "df = pd.read_csv(csv_path, names=index, header=None)\n",
    "img=cv2.imread(img_path)\n",
    "img=cv2.resize(img,(800,600))\n",
    "\n",
    "clicked = False\n",
    "r=g=b=xpos=ypos=0\n",
    "\n",
    "def getcolorname(R,G,B):\n",
    "    minimum = 1000\n",
    "    for i in range(len(df)):\n",
    "        d = abs(R - int(df.loc[i,'R']))+abs(G - int(df.loc[i,'G']))+abs(B - int(df.loc[i,'B']))\n",
    "        if d<=minimum:\n",
    "            minimum = d\n",
    "            cname = df.loc[i,'colorname']\n",
    "    return cname\n",
    "\n",
    "\n",
    "def draw_fn(event,x,y,flags,params):\n",
    "    if event==cv2.EVENT_LBUTTONDBLCLK:\n",
    "        global r,g,b,xpos,ypos,clicked\n",
    "        clicked = True\n",
    "        xpos = x\n",
    "        ypos = y\n",
    "        print(x,y)\n",
    "        b,g,r=img[y,x]\n",
    "        b = int(b)\n",
    "        g= int(g)\n",
    "        r = int(r)\n",
    "\n",
    "cv2.namedWindow('image')\n",
    "cv2.setMouseCallback('image',draw_fn)\n",
    "\n",
    "while(1):\n",
    "\n",
    "    cv2.imshow(\"image\",img)\n",
    "    if (clicked):\n",
    "   \n",
    "        #cv2.rectangle(image, startpoint, endpoint, color, thickness)-1 fills entire rectangle \n",
    "        cv2.rectangle(img,(20,20), (750,60), (b,g,r), -1)\n",
    "\n",
    "        #Creating text string to display( Color name and RGB values )\n",
    "        text = getcolorname(r,g,b) + ' R='+ str(r) +  ' G='+ str(g) +  ' B='+ str(b)\n",
    "        \n",
    "        #cv2.putText(img,text,start,font(0-7),fontScale,color,thickness,lineType )\n",
    "        cv2.putText(img, text,(50,50),2,0.8,(255,255,255),2,cv2.LINE_AA)\n",
    "\n",
    "        #For very light colours we will display text in black colour\n",
    "        if(r+g+b>=600):\n",
    "            cv2.putText(img, text,(50,50),2,0.8,(0,0,0),2,cv2.LINE_AA)\n",
    "            \n",
    "        clicked=False\n",
    "\n",
    "    #Break the loop when user hits 'esc' key    \n",
    "    if cv2.waitKey(20) & 0xFF ==27:\n",
    "        break\n",
    "    \n",
    "cv2.destroyAllWindows()"
   ]
  },
  {
   "cell_type": "code",
   "execution_count": null,
   "metadata": {},
   "outputs": [],
   "source": []
  }
 ],
 "metadata": {
  "kernelspec": {
   "display_name": "Python 3",
   "language": "python",
   "name": "python3"
  },
  "language_info": {
   "codemirror_mode": {
    "name": "ipython",
    "version": 3
   },
   "file_extension": ".py",
   "mimetype": "text/x-python",
   "name": "python",
   "nbconvert_exporter": "python",
   "pygments_lexer": "ipython3",
   "version": "3.8.5"
  }
 },
 "nbformat": 4,
 "nbformat_minor": 4
}
